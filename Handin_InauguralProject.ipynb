{
 "cells": [
  {
   "cell_type": "markdown",
   "metadata": {},
   "source": [
    "# Project 0: Inaugural Project\n",
    "\n",
    "### Økonometrioen - nxj360, btq674 & vsj859\n",
    "March 16th 2020"
   ]
  },
  {
   "cell_type": "markdown",
   "metadata": {},
   "source": [
    "noget med hvilke programmer vi importerer"
   ]
  },
  {
   "cell_type": "code",
   "execution_count": 1,
   "metadata": {},
   "outputs": [],
   "source": [
    "import math\n",
    "import numpy as np\n",
    "import matplotlib.pyplot as plt\n",
    "import seaborn as sns\n",
    "from scipy import optimize"
   ]
  },
  {
   "cell_type": "markdown",
   "metadata": {},
   "source": [
    "1) We define our utility function and solve the maximization problem.\n",
    "\n",
    "\n",
    "To do this, we have chosen to make an outer function and an inner function. In our inner function, we define the utility function from the project description. In our outer function we maximize our inner function using a loop and return our maximized utility and the optimal level of labor supply and consumption."
   ]
  },
  {
   "cell_type": "code",
   "execution_count": 40,
   "metadata": {},
   "outputs": [],
   "source": [
    "# Our outer function solves our maximization problem\n",
    "def f(w = 1, m = 1, ny = 10, tau_0 = 0.4, tau_1 = 0.1, kappa = 0.4, epsilon = 0.3):\n",
    "    # Our utility function\n",
    "    def u(l):\n",
    "        c = m + w * l - (tau_0 * w * l + tau_1 * max(w * l - kappa, 0))\n",
    "        if c > 0:\n",
    "            u = math.log(c) - ny * (l ** (1 + 1 / epsilon) / (1 + 1 / epsilon))\n",
    "            return u\n",
    "        else:\n",
    "            u = 0\n",
    "            return u\n",
    "\n",
    "    \n",
    "# Here we maximize using a loop\n",
    "    N = 500\n",
    "    l_vec = np.linspace(0,1,N)\n",
    "    \n",
    "    u_best = 0 # initial maximum\n",
    "    l_best = 0 # initial number\n",
    "\n",
    "    for i, l in enumerate(l_vec):\n",
    "        u_now = u(l)\n",
    "        if u_now > u_best:\n",
    "            l_best = l\n",
    "            u_best = u_now\n",
    "    \n",
    "    # Determinies the optimal c\n",
    "    c_best = m + w * l_best - (tau_0 * w * l_best + tau_1 * max(w * l_best - kappa, 0))\n",
    "    \n",
    "    return u_best, l_best, c_best"
   ]
  },
  {
   "cell_type": "markdown",
   "metadata": {},
   "source": [
    "2) To plot labor supply and consumption as a function of the wage, we generate a linspace of wages, and run them through our function from 1). Then we plot our results."
   ]
  },
  {
   "cell_type": "code",
   "execution_count": 41,
   "metadata": {},
   "outputs": [],
   "source": [
    "w_vec = np.linspace(0.5, 1.5, 100)\n",
    "\n",
    "l_value = []\n",
    "c_value = []\n",
    "\n",
    "for i, w in enumerate(w_vec):\n",
    "    l_value.append(f(w)[1])\n",
    "    c_value.append(f(w)[2])\n"
   ]
  },
  {
   "cell_type": "code",
   "execution_count": 42,
   "metadata": {},
   "outputs": [
    {
     "data": {
      "image/png": "[encoded data removed]",
      "text/plain": [
       "<Figure size 432x288 with 1 Axes>"
      ]
     },
     "metadata": {},
     "output_type": "display_data"
    }
   ],
   "source": [
    "fig = plt.figure()\n",
    "ax1 = fig.add_subplot(111)\n",
    "\n",
    "ax1.plot(w_vec, l_value, c = 'r', label = 'Labor supply')\n",
    "ax1.plot(w_vec, c_value, c = 'g', label = 'Consumption')\n",
    "plt.legend(loc='upper left')\n",
    "plt.style.use('seaborn-whitegrid')\n",
    "ax1.set_xlabel('$w$')\n",
    "ax1.set_ylabel('$l,c$')\n",
    "plt.show()"
   ]
  },
  {
   "cell_type": "markdown",
   "metadata": {},
   "source": [
    "3)\n",
    "To generate a wage for each individual in the population, we use a linspace like in 2) but with N = 10.000\n",
    "\n",
    "Then we use a loop to insert each value in our linspace into the function."
   ]
  },
  {
   "cell_type": "code",
   "execution_count": 43,
   "metadata": {},
   "outputs": [
    {
     "name": "stdout",
     "output_type": "stream",
     "text": [
      "1630.1852031575927\n"
     ]
    }
   ],
   "source": [
    "w_vec = np.linspace(0.5, 1.5, 10000)\n",
    "\n",
    "\n",
    "def tax_revenue(tau_0 = 0.4, tau_1 = 0.1, kappa = 0.4):\n",
    "    T = 0\n",
    "    for i in w_vec:\n",
    "        T += tau_0 * i * f(w = i, tau_0 = tau_0, tau_1 = tau_1, kappa = kappa)[1] + tau_1 * max(i * f(w = i, tau_0 = tau_0, tau_1 = tau_1, kappa = kappa)[1] - kappa, 0)\n",
    "    return T\n",
    "\n",
    "print(tax_revenue())"
   ]
  },
  {
   "cell_type": "markdown",
   "metadata": {},
   "source": [
    "4)\n",
    "If epsilon = 0.1, we use the loop above to see that "
   ]
  },
  {
   "cell_type": "code",
   "execution_count": 15,
   "metadata": {},
   "outputs": [
    {
     "name": "stdout",
     "output_type": "stream",
     "text": [
      "3196.8957098602746\n"
     ]
    }
   ],
   "source": [
    "T = 0\n",
    "for i in w_vec:\n",
    "    tau_0 = 0.4\n",
    "    tau_1 = 0.1\n",
    "    kappa = 0.4\n",
    "    T += tau_0 * i * f(i, epsilon = 0.1)[1] + tau_1 * max(i * f(i, epsilon = 0.1)[1] - kappa, 0)\n",
    "\n",
    "print(T)"
   ]
  },
  {
   "cell_type": "markdown",
   "metadata": {},
   "source": [
    "5) To maximize the tax revenue, we make a couple of assumptions:\n",
    "- $\\tau_0$ and $\\tau_1$ can only be between 0 and 1 - you cannot tax less than nothing and more than the entire income.\n",
    "- $\\kappa$ can only be bewteen 0 and 1.5 as the largest possible income is 1.5.\n",
    "\n",
    "Originaly, we tried using a loop to optimize, but as the process took incredibly long to be somewhat precise, we have opted to use an optimizer. \n",
    "\n",
    "We have chosen the optimizer from the scipy package. After consultation from other groups, we have chosen the Powell method, in order to avoid problems occuring from what we asume to be differentation."
   ]
  },
  {
   "cell_type": "markdown",
   "metadata": {},
   "source": [
    "Bellow we have made a function, neg_tax_revenue, which uses a parametervector to insert parameters in the tax_revenue function and makes it negative. The reason we make it negative is so that we can use a minimizing optimizer to maximize."
   ]
  },
  {
   "cell_type": "code",
   "execution_count": 47,
   "metadata": {},
   "outputs": [],
   "source": [
    "def neg_tax_revenue(vector):\n",
    "    tau_0 = vector[0]\n",
    "    tau_1 = vector[1]\n",
    "    kappa = vector[2]\n",
    "    tax = -1* tax_revenue(tau_0 = tau_0, tau_1 = tau_1, kappa = kappa)\n",
    "    if kappa < 0:\n",
    "        return 0\n",
    "    if kappa > 1.5:\n",
    "        return 0\n",
    "    if tau_0 < 0:\n",
    "        return 0\n",
    "    if tau_0 > 1:\n",
    "        return 0\n",
    "    if tau_1 < 0:\n",
    "        return 0\n",
    "    if tau_1 > 1:\n",
    "        return 0\n",
    "    else:\n",
    "        return tax"
   ]
  },
  {
   "cell_type": "markdown",
   "metadata": {},
   "source": [
    "Next step is to minize. To do this, we first give the minimizer an initial guess. We have chosen the given paramter values:"
   ]
  },
  {
   "cell_type": "code",
   "execution_count": 48,
   "metadata": {},
   "outputs": [],
   "source": [
    "initial_guess = [0.4, 0.1, 0.4]"
   ]
  },
  {
   "cell_type": "code",
   "execution_count": 51,
   "metadata": {},
   "outputs": [
    {
     "name": "stdout",
     "output_type": "stream",
     "text": [
      "   direc: array([[1., 0., 0.],\n",
      "       [0., 1., 0.],\n",
      "       [0., 0., 1.]])\n",
      "     fun: -24.680475483373293\n",
      " message: 'Optimization terminated successfully.'\n",
      "    nfev: 234\n",
      "     nit: 3\n",
      "  status: 0\n",
      " success: True\n",
      "       x: array([0.78696323, 0.00169945, 0.79667445])\n"
     ]
    }
   ],
   "source": [
    "w_vec = np.linspace(0.5, 1.5, 100)\n",
    "max_tax = optimize.minimize(neg_tax_revenue, initial_guess, method = 'Powell')\n",
    "\n",
    "print(max_tax)"
   ]
  },
  {
   "cell_type": "markdown",
   "metadata": {},
   "source": [
    "Note: Above, we have chosen to reduce the amount of people in the economy to a hundred people. This sacrices accuracy, but we accepted that as the tradeoff of increased speed."
   ]
  }
 ],
 "metadata": {
  "kernelspec": {
   "display_name": "Python 3",
   "language": "python",
   "name": "python3"
  },
  "language_info": {
   "codemirror_mode": {
    "name": "ipython",
    "version": 3
   },
   "file_extension": ".py",
   "mimetype": "text/x-python",
   "name": "python",
   "nbconvert_exporter": "python",
   "pygments_lexer": "ipython3",
   "version": "3.7.3"
  }
 },
 "nbformat": 4,
 "nbformat_minor": 2
}
